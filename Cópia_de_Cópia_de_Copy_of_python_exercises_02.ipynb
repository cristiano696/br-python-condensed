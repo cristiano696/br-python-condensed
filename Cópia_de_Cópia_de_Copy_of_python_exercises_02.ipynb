{
  "nbformat": 4,
  "nbformat_minor": 0,
  "metadata": {
    "colab": {
      "name": "Cópia de Cópia de Copy of python_exercises_02.ipynb",
      "provenance": [],
      "collapsed_sections": [],
      "include_colab_link": true
    },
    "kernelspec": {
      "name": "python3",
      "display_name": "Python 3"
    }
  },
  "cells": [
    {
      "cell_type": "markdown",
      "metadata": {
        "id": "view-in-github",
        "colab_type": "text"
      },
      "source": [
        "<a href=\"https://colab.research.google.com/github/cristiano696/br-python-condensed/blob/main/C%C3%B3pia_de_C%C3%B3pia_de_Copy_of_python_exercises_02.ipynb\" target=\"_parent\"><img src=\"https://colab.research.google.com/assets/colab-badge.svg\" alt=\"Open In Colab\"/></a>"
      ]
    },
    {
      "cell_type": "markdown",
      "metadata": {
        "id": "8YqaSZgXYJ5g"
      },
      "source": [
        "![](https://i.imgur.com/YX6UATs.png)\n"
      ]
    },
    {
      "cell_type": "markdown",
      "metadata": {
        "id": "hhUVzDipaGb9"
      },
      "source": [
        "### **Exercícios de Python - 2** \n",
        "\n",
        "\n",
        "\n"
      ]
    },
    {
      "cell_type": "markdown",
      "metadata": {
        "id": "c62cM2VlKFqN"
      },
      "source": [
        "1 - Faça um programa que leia um nome de usuário e a sua senha e não aceite a senha igual ao nome do usuário, mostrando uma mensagem de erro."
      ]
    },
    {
      "cell_type": "code",
      "metadata": {
        "id": "A3ajzaOSq69B",
        "outputId": "201e43f7-9bb2-4e64-b6c4-8f819a5977bf",
        "colab": {
          "base_uri": "https://localhost:8080/",
          "height": 102
        }
      },
      "source": [
        "login = input (\"Login:\")\n",
        "senha = input (\"senha:\")\n",
        "\n",
        "while login == senha:\n",
        "  print(\"sua senha deve ser diferente do login: \")\n",
        "  senha = input(\"senha: \")\n",
        "\n",
        "print(\"cadastro aprovado\")  \n",
        "\n"
      ],
      "execution_count": null,
      "outputs": [
        {
          "output_type": "stream",
          "text": [
            "Login:ffff\n",
            "senha:ffff\n",
            "sua senha deve ser diferente do login: \n",
            "senha: fff\n",
            "cadastro aprovado\n"
          ],
          "name": "stdout"
        }
      ]
    },
    {
      "cell_type": "code",
      "metadata": {
        "id": "4kCF3pVwjbej"
      },
      "source": [
        ""
      ],
      "execution_count": null,
      "outputs": []
    },
    {
      "cell_type": "markdown",
      "metadata": {
        "id": "qMGp-h8OaGqr"
      },
      "source": [
        "2 - Utilizando listas faça um programa que faça 5 perguntas para uma pessoa sobre um crime. As perguntas são:\n",
        "- \"Telefonou para a vítima?\"\n",
        "- \"Esteve no local do crime?\"\n",
        "- \"Mora perto da vítima?\"\n",
        "- \"Devia para a vítima?\"\n",
        "- \"Já trabalhou com a vítima?\" \\\n",
        "O programa deve no final emitir uma classificação sobre a participação da pessoa no crime. Se a pessoa responder positivamente a 2 questões ela deve ser classificada como \"Suspeita\", entre 3 e 4 como \"Cúmplice\" e 5 como \"Assassino\". Caso contrário, ele será classificado como \"Inocente\"."
      ]
    },
    {
      "cell_type": "code",
      "metadata": {
        "id": "kTg-D89NdCld",
        "outputId": "cfc7247f-38c3-4aea-f8b0-43703f08e05a",
        "colab": {
          "base_uri": "https://localhost:8080/",
          "height": 119
        }
      },
      "source": [
        "resp = []\n",
        "resp.append(input(\"telefonou para a vitima? 1/Sim ou 0/Não:\"))\n",
        "resp.append(input(\"Esteve no local do crime? 1/Sim ou 0/Não:\"))\n",
        "resp.append(input(\"Mora perto da vítima? 1/Sim ou 0/Não: \"))\n",
        "resp.append(input(\"Devia para a vítima? 1/Sim ou 0/Não: \"))\n",
        "resp.append(input(\"Já trabalhou com a vítima? 1/Sim ou 0/Não:\"))\n",
        "\n",
        "soma_respostas = 0\n",
        "for i in resp :\n",
        "    soma_respostas +=int(i)\n",
        "if (soma_respostas < 2):\n",
        "    print(\"inocente\")\n",
        "elif (soma_respostas == 2):\n",
        "  print(\"suspeita\")\n",
        "elif (3 <= soma_respostas <= 4):\n",
        "  print (\"cumplice\")\n",
        "elif (soma_respostas == 5):\n",
        "  print(\"Assassino\")        "
      ],
      "execution_count": null,
      "outputs": [
        {
          "output_type": "stream",
          "text": [
            "telefonou para a vitima? 1/Sim ou 0/Não:1\n",
            "Esteve no local do crime? 1/Sim ou 0/Não:0\n",
            "Mora perto da vítima? 1/Sim ou 0/Não: 1\n",
            "Devia para a vítima? 1/Sim ou 0/Não: 0\n",
            "Já trabalhou com a vítima? 1/Sim ou 0/Não:1\n",
            "cumplice\n"
          ],
          "name": "stdout"
        }
      ]
    },
    {
      "cell_type": "markdown",
      "metadata": {
        "id": "FTK9nE4pdB1D"
      },
      "source": [
        "3 - A lista abaixo possui nomes de alunos de uma classe. Crie um loop que imprima '{nome} é aluno da classe'\n"
      ]
    },
    {
      "cell_type": "code",
      "metadata": {
        "id": "nW4SbDxTmx4t",
        "outputId": "e1af2347-4846-4fed-b67e-8d7915b210c4",
        "colab": {
          "base_uri": "https://localhost:8080/"
        }
      },
      "source": [
        "nomes = ['Maria','João','Marcelo','Jonas','Laura','Luana']\n",
        "print (\"Aluno  Classe\")\n",
        "print (\"=========\")\n",
        "print (\"Maria 1°\")\n",
        "print (\"João 1°\")\n",
        "print (\"Marcelo 2°\")\n",
        "print (\"Jonas 2°\")\n",
        "print (\"Laura 2°\")\n",
        "print (\"Luana 8°\")\n",
        "\n",
        "\n",
        "  "
      ],
      "execution_count": 7,
      "outputs": [
        {
          "output_type": "stream",
          "text": [
            "Aluno  Classe\n",
            "=========\n",
            "Maria 1°\n",
            "João 1°\n",
            "Marcelo 2°\n",
            "Jonas 2°\n",
            "Laura 2°\n",
            "Luana 8°\n"
          ],
          "name": "stdout"
        }
      ]
    },
    {
      "cell_type": "code",
      "metadata": {
        "id": "0sRr8MXCpbGP"
      },
      "source": [
        ""
      ],
      "execution_count": null,
      "outputs": []
    },
    {
      "cell_type": "markdown",
      "metadata": {
        "id": "_HbJNv8MaG4g"
      },
      "source": [
        "4 - Utilizando-se da mesma lista trabalhada acima e a lista dada abaixo, que contem as idades dos alunos, realize um loop que faça a iteração com as duas listas printando \"{nome} tem {idade} anos\".\n",
        "Dica: utilize *zip*()"
      ]
    },
    {
      "cell_type": "code",
      "metadata": {
        "id": "LJDxmAbJeO9V",
        "outputId": "49404c4b-0837-4fa4-b1d9-199b6511512e",
        "colab": {
          "base_uri": "https://localhost:8080/"
        }
      },
      "source": [
        "\n",
        "lista_1 = ['Maria','João','Marcelo','Jonas','Laura','Luana']\n",
        "lista_2 = (23,34,42,54,26,27)\n",
        "for nomes ,idade in zip(lista_1, lista_2):\n",
        "  print (nomes , idade)"
      ],
      "execution_count": 16,
      "outputs": [
        {
          "output_type": "stream",
          "text": [
            "Maria 23\n",
            "João 34\n",
            "Marcelo 42\n",
            "Jonas 54\n",
            "Laura 26\n",
            "Luana 27\n"
          ],
          "name": "stdout"
        }
      ]
    },
    {
      "cell_type": "code",
      "metadata": {
        "id": "xnDSEWiNvG9M"
      },
      "source": [
        "\n"
      ],
      "execution_count": null,
      "outputs": []
    },
    {
      "cell_type": "code",
      "metadata": {
        "id": "Kq1Lc7Ukps-V"
      },
      "source": [
        ""
      ],
      "execution_count": null,
      "outputs": []
    },
    {
      "cell_type": "markdown",
      "metadata": {
        "id": "0tkhm6EUaG1u"
      },
      "source": [
        "5 - Transforme as duas listas anteriores em um dicionário cuja chave é o nome e o valor é a idade."
      ]
    },
    {
      "cell_type": "code",
      "metadata": {
        "id": "MNINJ32eU45M",
        "outputId": "e4c26fcd-98b8-49a4-a823-95cc7704adb3",
        "colab": {
          "base_uri": "https://localhost:8080/"
        }
      },
      "source": [
        "lista_1 = ['Maria','João','Marcelo','Jonas','Laura','Luana']\n",
        "lista_2 = (23,34,42,54,26,27)\n",
        "dict(zip(lista_1,lista_2))\n",
        "\n",
        "\n"
      ],
      "execution_count": 19,
      "outputs": [
        {
          "output_type": "execute_result",
          "data": {
            "text/plain": [
              "{'Jonas': 54, 'João': 34, 'Laura': 26, 'Luana': 27, 'Marcelo': 42, 'Maria': 23}"
            ]
          },
          "metadata": {
            "tags": []
          },
          "execution_count": 19
        }
      ]
    },
    {
      "cell_type": "markdown",
      "metadata": {
        "id": "Lm1tOKThnU42"
      },
      "source": [
        "Exercícios adaptados de Python Brasil"
      ]
    }
  ]
}